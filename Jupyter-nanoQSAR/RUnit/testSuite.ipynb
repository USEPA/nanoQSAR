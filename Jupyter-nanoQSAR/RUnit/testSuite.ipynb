{
 "cells": [
  {
   "cell_type": "code",
   "execution_count": 1,
   "metadata": {},
   "outputs": [],
   "source": [
    "# This script runs a test suite of the RUnit tests written for the bartMachine analysis of\n",
    "# the nanoQSAR's and Todd's data.\n",
    "# Created: 12/14/2018 Wilson Melendez\n",
    "# Revised:\n",
    "\n",
    "# Load the RUnit package\n",
    "library(RUnit)\n",
    "\n",
    "# Set main and test directories.\n",
    "test_dir <- getwd()\n",
    "main_dir <- paste(test_dir, \"/..\", sep = \"\")\n",
    "\n",
    "# Set working directory\n",
    "setwd(test_dir)"
   ]
  },
  {
   "cell_type": "code",
   "execution_count": 2,
   "metadata": {},
   "outputs": [
    {
     "data": {
      "text/html": [
       "'C:\\\\Program Files\\\\Java\\\\jdk1.8.0_152'"
      ],
      "text/latex": [
       "'C:\\textbackslash{}\\textbackslash{}Program Files\\textbackslash{}\\textbackslash{}Java\\textbackslash{}\\textbackslash{}jdk1.8.0\\_152'"
      ],
      "text/markdown": [
       "'C:\\\\Program Files\\\\Java\\\\jdk1.8.0_152'"
      ],
      "text/plain": [
       "[1] \"C:\\\\Program Files\\\\Java\\\\jdk1.8.0_152\""
      ]
     },
     "metadata": {},
     "output_type": "display_data"
    }
   ],
   "source": [
    "# Set JAVA_HOME to the location of the JDK in your system.\n",
    "Sys.setenv(\"JAVA_HOME\"=\"C:\\\\Program Files\\\\Java\\\\jdk1.8.0_152\")\n",
    "\n",
    "#  Get the location of the JDK\n",
    "Sys.getenv(\"JAVA_HOME\")\n",
    "\n",
    "# Load the rJava package -- this is needed by the bartMachine.\n",
    "library(rJava)"
   ]
  },
  {
   "cell_type": "code",
   "execution_count": 3,
   "metadata": {},
   "outputs": [
    {
     "name": "stderr",
     "output_type": "stream",
     "text": [
      "Loading required package: bartMachineJARs\n",
      "Loading required package: car\n",
      "Loading required package: carData\n",
      "Loading required package: randomForest\n",
      "randomForest 4.6-14\n",
      "Type rfNews() to see new features/changes/bug fixes.\n",
      "Loading required package: missForest\n",
      "Loading required package: foreach\n",
      "Loading required package: itertools\n",
      "Loading required package: iterators\n",
      "Welcome to bartMachine v1.2.3! You have 3.73GB memory available.\n",
      "\n",
      "If you run out of memory, restart R, and use e.g.\n",
      "'options(java.parameters = \"-Xmx5g\")' for 5GB of RAM before you call\n",
      "'library(bartMachine)'.\n",
      "\n"
     ]
    },
    {
     "name": "stdout",
     "output_type": "stream",
     "text": [
      "bartMachine now using 4 cores.\n"
     ]
    }
   ],
   "source": [
    "# Allocate memory needed before loading the bartMachine.\n",
    "# Note that the maximum amount of memory can be set only once at the beginning of the R session (a\n",
    "# limitation of rJava since only one Java Virtual Machine can be initiated per R session), but the number of\n",
    "# cores can be respecified at any time.\n",
    "options(java.parameters = \"-Xmx4000m\")\n",
    "\n",
    "# Load the bartMachine package\n",
    "library(bartMachine)\n",
    "\n",
    "# Allocate number of cores that will be used by the bartMachine\n",
    "set_bart_machine_num_cores(4)"
   ]
  },
  {
   "cell_type": "code",
   "execution_count": 4,
   "metadata": {},
   "outputs": [],
   "source": [
    "# Build the pathnames of the R scripts to be tested.\n",
    "Rscript1 = paste(main_dir, \"/runJarFile.R\", sep=\"\")\n",
    "Rscript2 = paste(main_dir, \"/removeColumnsWithAllNAs.R\", sep=\"\")\n",
    "Rscript3 = paste(main_dir, \"/extractXColumns.R\", sep=\"\")\n",
    "Rscript4 = paste(main_dir, \"/extractNumericColumns.R\", sep=\"\")\n",
    "Rscript5 = paste(main_dir, \"/getRecordsWithResults.R\", sep=\"\")\n",
    "Rscript6 = paste(main_dir, \"/removeColumnsWithOneRepeatedValue.R\", sep=\"\")\n",
    "Rscript7 = paste(main_dir, \"/extractYColumn.R\", sep=\"\")\n",
    "\n",
    "# Load the source codes to be tested.\n",
    "source(Rscript1)\n",
    "source(Rscript2)\n",
    "source(Rscript3)\n",
    "source(Rscript4)\n",
    "source(Rscript5)\n",
    "source(Rscript6)\n",
    "source(Rscript7)"
   ]
  },
  {
   "cell_type": "code",
   "execution_count": 5,
   "metadata": {},
   "outputs": [
    {
     "name": "stdout",
     "output_type": "stream",
     "text": [
      "\n",
      "\n",
      "Executing test function test.Automobile  ... bartMachine initializing with 50 trees...\n",
      "bartMachine vars checked...\n",
      "bartMachine java init...\n",
      "bartMachine factors created...\n",
      "bartMachine before preprocess...\n",
      "bartMachine after preprocess... 42 total features...\n",
      "bartMachine sigsq estimated...\n",
      "bartMachine training data finalized...\n",
      "Now building bartMachine for regression ...Covariate importance prior ON. \n",
      "evaluating in sample data...done\n",
      " done successfully.\n",
      "\n",
      "\n",
      "\n",
      "Executing test function test.ExtractNumericColumns  ...  done successfully.\n",
      "\n",
      "\n",
      "\n",
      "Executing test function test.ExtractXColumns  ...  done successfully.\n",
      "\n",
      "\n",
      "\n",
      "Executing test function test.ExtractYColumn  ...  done successfully.\n",
      "\n",
      "\n",
      "\n",
      "Executing test function test.GetRecordsWithResults  ...  done successfully.\n",
      "\n",
      "\n",
      "\n",
      "Executing test function test.nanoQSAR_Bart  ... bartMachine initializing with 200 trees...\n",
      "bartMachine vars checked...\n",
      "bartMachine java init...\n",
      "bartMachine factors created...\n",
      "bartMachine before preprocess...\n",
      "bartMachine after preprocess... 55 total features...\n",
      "bartMachine sigsq estimated...\n",
      "bartMachine training data finalized...\n",
      "Now building bartMachine for regression ...Missing data feature ON. Missingness used as covariates. \n",
      "evaluating in sample data...done\n",
      "serializing in order to be saved for future R sessions...done\n",
      " done successfully.\n",
      "\n",
      "\n",
      "\n",
      "Executing test function test.RemoveColumnsWithAllNAs  ...  done successfully.\n",
      "\n",
      "\n",
      "\n",
      "Executing test function test.RemoveColumnsWithOneRepeatedValue  ...  done successfully.\n",
      "\n",
      "\n",
      "\n",
      "Executing test function test.runJarFile  ...  done successfully.\n",
      "\n",
      "\n",
      "\n",
      "Executing test function test.ToddData  ... bartMachine initializing with 200 trees...\n",
      "bartMachine vars checked...\n",
      "bartMachine java init...\n",
      "bartMachine factors created...\n",
      "bartMachine before preprocess...\n",
      "bartMachine after preprocess... 798 total features...\n",
      "warning: cannot use MSE of linear model for s_sq_y if p > n. bartMachine will use sample var(y) instead.\n",
      "bartMachine sigsq estimated...\n",
      "bartMachine training data finalized...\n",
      "Now building bartMachine for regression ...\n",
      "evaluating in sample data...done\n",
      "serializing in order to be saved for future R sessions...done\n",
      " done successfully.\n",
      "\n"
     ]
    }
   ],
   "source": [
    "## Define test suite\n",
    "myTestSuite <- defineTestSuite(\"RUnit BartMachine\", \n",
    "                               file.path(test_dir), \n",
    "                               testFileRegexp = \"^runit.+\\\\.[rR]$\", \n",
    "                               testFuncRegexp = \"^test.+\", \n",
    "                               rngKind = \"Marsaglia-Multicarry\", \n",
    "                               rngNormalKind = \"Kinderman-Ramage\")\n",
    "\n",
    "# Run test suite\n",
    "testResult <- runTestSuite(myTestSuite)\n",
    "\n",
    "# Print the results of the tests to a text file.  Results will be printed in ASCII format.\n",
    "printTextProtocol(testResult, fileName = \"results.txt\", showDetails = TRUE)"
   ]
  },
  {
   "cell_type": "code",
   "execution_count": null,
   "metadata": {},
   "outputs": [],
   "source": []
  }
 ],
 "metadata": {
  "kernelspec": {
   "display_name": "R",
   "language": "R",
   "name": "ir"
  },
  "language_info": {
   "codemirror_mode": "r",
   "file_extension": ".r",
   "mimetype": "text/x-r-source",
   "name": "R",
   "pygments_lexer": "r",
   "version": "3.4.4"
  }
 },
 "nbformat": 4,
 "nbformat_minor": 2
}
